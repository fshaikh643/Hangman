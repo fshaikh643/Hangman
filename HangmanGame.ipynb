{
 "cells": [
  {
   "cell_type": "code",
   "execution_count": 1,
   "id": "3fd9cbcd-25df-44f2-9169-df291dce6004",
   "metadata": {},
   "outputs": [
    {
     "name": "stdin",
     "output_type": "stream",
     "text": [
      "Press '1' for Animals '2' for Flowers or '0' to exit anytime \n",
      " 1\n"
     ]
    },
    {
     "name": "stdout",
     "output_type": "stream",
     "text": [
      "There are 5 letters:  * * * * *\n"
     ]
    },
    {
     "name": "stdin",
     "output_type": "stream",
     "text": [
      "\n",
      "Guess a letter...    c\n"
     ]
    },
    {
     "name": "stdout",
     "output_type": "stream",
     "text": [
      "Sorry wrong guess..\n",
      "\n",
      "    ________\n",
      "\n",
      "Word:  * * * * *\n",
      "\n",
      "Misses: C\n"
     ]
    },
    {
     "name": "stdin",
     "output_type": "stream",
     "text": [
      "\n",
      "Guess a letter...    h\n"
     ]
    },
    {
     "name": "stdout",
     "output_type": "stream",
     "text": [
      "Great guess!\n",
      "    ________\n",
      "\n",
      "Word:  * H * * *\n",
      "\n",
      "Misses: C\n"
     ]
    },
    {
     "name": "stdin",
     "output_type": "stream",
     "text": [
      "\n",
      "Guess a letter...    a\n"
     ]
    },
    {
     "name": "stdout",
     "output_type": "stream",
     "text": [
      "Great guess!\n",
      "    ________\n",
      "\n",
      "Word:  * H A * *\n",
      "\n",
      "Misses: C\n"
     ]
    },
    {
     "name": "stdin",
     "output_type": "stream",
     "text": [
      "\n",
      "Guess a letter...    s\n"
     ]
    },
    {
     "name": "stdout",
     "output_type": "stream",
     "text": [
      "Great guess!\n",
      "    ________\n",
      "\n",
      "Word:  S H A * *\n",
      "\n",
      "Misses: C\n"
     ]
    },
    {
     "name": "stdin",
     "output_type": "stream",
     "text": [
      "\n",
      "Guess a letter...    r\n"
     ]
    },
    {
     "name": "stdout",
     "output_type": "stream",
     "text": [
      "Great guess!\n",
      "    ________\n",
      "\n",
      "Word:  S H A R *\n",
      "\n",
      "Misses: C\n"
     ]
    },
    {
     "name": "stdin",
     "output_type": "stream",
     "text": [
      "\n",
      "Guess a letter...    k\n"
     ]
    },
    {
     "name": "stdout",
     "output_type": "stream",
     "text": [
      "Great guess!\n",
      "    ________\n",
      "\n",
      "Word:  S H A R K\n",
      "\n",
      "Misses: C\n",
      "\n",
      "You've won!\n"
     ]
    }
   ],
   "source": [
    "#!/usr/bin/env python3\n",
    "# -*- coding: utf-8 -*-\n",
    "\"\"\"\n",
    "Created on Mon Apr 20 09:41:42 2020\n",
    "\n",
    "@author: firozshaikh\n",
    "\"\"\"\n",
    "\n",
    "\n",
    "import random\n",
    "import sys\n",
    "\n",
    "#create the hangman segments to loop through when an incorrect guess is made\n",
    "hanger = []\n",
    "for j in range(15):\n",
    "    hanger.append(\"\")\n",
    "\n",
    "hanger[0] = \"    ________\"\n",
    " \n",
    "for i in range(1,5):\n",
    "    hanger[i] = \"   |        |\"\n",
    "hanger[5]= \"    0       |\"    \n",
    "hanger[6] =\" --+--      |\"\n",
    "hanger[7]=\"/  |  \\\\     |\"\n",
    "hanger[8]=\"   |        |\"\n",
    "hanger[9]=\"  / \\\\       |\"\n",
    "hanger[10]=\" /   \\\\      |\"\n",
    "\n",
    "for k in range(11,14):\n",
    "    hanger[k]=\"            |\"\n",
    "\n",
    "hanger[14]=\"_____________\"\n",
    "\n",
    "h=len(hanger)\n",
    "\n",
    "#two categories of words for the player to choose from\n",
    "animals = [\"giraffe\", \"monkey\", \"rhinoceros\", \"alligator\", \"whale\", \n",
    "           \"shark\", \"horse\"]\n",
    "flowers = [\"daffodil\",\"rose\", \"dahlia\",\"tulip\", \"poppy\",\"bluebell\"]\n",
    "\n",
    "#to exit game any time - press 0\n",
    "def esc(g):\n",
    "    if g == \"0\":\n",
    "        print(\"\\nExit from game.\")\n",
    "        sys.exit()\n",
    "\n",
    "#player can press 1 or 2 to select  category and 0 to exit anytime\n",
    "c = \"\" \n",
    "while c not in [\"0\", \"1\", \"2\"]:\n",
    "    c = input(\"Press '1' for Animals '2' for Flowers or '0' to \"\n",
    "              \"exit anytime \\n\")\n",
    "    esc(c)\n",
    "\n",
    "#map the choise to the cateogry\n",
    "dict = {\"1\":animals, \"2\": flowers}\n",
    "#pick a  random word from the category\n",
    "word = random.choice(dict[c]).upper()\n",
    "\n",
    "\n",
    "#formulate the word as a list to compare the guesses with\n",
    "wordlist = list(word.upper())\n",
    "l = len(word)\n",
    "\n",
    "#create a space to store the guesses and print out later (like e.g W*LF )\n",
    "guess = []\n",
    "for i in range(l):\n",
    "    guess.append('*')\n",
    "\n",
    "#a placeholder for wrong guesses\n",
    "errs =[]   \n",
    "#record number of matches and incorrect guesses\n",
    "hit = 0\n",
    "miss = 0\n",
    "print(\"There are\",l, \"letters: \", *guess)\n",
    "while hit < l:\n",
    "    g = input(\"\\nGuess a letter...   \").upper()\n",
    "    esc(g)\n",
    "    if g.isalpha() == False:\n",
    "        print(\"Please type a letter or 0 to exit:\")\n",
    "        continue  \n",
    "     #check the letter has not  already been selected, if so ask for another   \n",
    "    if g in guess:\n",
    "        print(\"You've selected this letter already. Try another..\")\n",
    "        continue\n",
    "#if a correct guess is made\n",
    "    if g in wordlist:   \n",
    "        for i in range(l): \n",
    "#otherwise record a match and place the letter in our guess list\n",
    "            if wordlist[i] == g:\n",
    "                guess[i] = g\n",
    "                hit += 1        \n",
    "        print(\"Great guess!\")        \n",
    "    else:  \n",
    "#let player know of a incorrect letter tried already (no miss count is recorded)          \n",
    "        if g in errs:\n",
    "                print(\"Letter was already incorrectly guessed\")\n",
    "                continue\n",
    "#for incorrect guesses record a miss            \n",
    "        else:\n",
    "            errs.append(g)        \n",
    "        print(\"Sorry wrong guess..\\n\")\n",
    "        miss +=1     \n",
    "#print the hangman for the number of misses        \n",
    "    for n in range(miss):\n",
    "        print(hanger[n])    \n",
    "#print the word with the correct guesses e.g W*LF       \n",
    "    print(\"\\nWord: \", *guess)\n",
    "#list all the incorrect guesses                       \n",
    "    print(\"\\nMisses:\", *errs)\n",
    "#if enough wrong guesses are made we have man is hung        \n",
    "    if miss == len(hanger):\n",
    "        print(\"\\nSorry you lose...the answer was\", word)\n",
    "        break\n",
    "#if all the letters have been guessed the player has won      \n",
    "    if hit == l:  \n",
    "        print(\"\\nYou've won!\")\n",
    "        break\n",
    "    \n",
    "        \n",
    "        \n",
    "        \n"
   ]
  },
  {
   "cell_type": "code",
   "execution_count": null,
   "id": "8e94816f-7fd1-4a61-a5a6-addcf8685ebc",
   "metadata": {},
   "outputs": [],
   "source": []
  }
 ],
 "metadata": {
  "environment": {
   "kernel": "python3",
   "name": "tf2-gpu.2-8.m91",
   "type": "gcloud",
   "uri": "gcr.io/deeplearning-platform-release/tf2-gpu.2-8:m91"
  },
  "kernelspec": {
   "display_name": "Python 3",
   "language": "python",
   "name": "python3"
  },
  "language_info": {
   "codemirror_mode": {
    "name": "ipython",
    "version": 3
   },
   "file_extension": ".py",
   "mimetype": "text/x-python",
   "name": "python",
   "nbconvert_exporter": "python",
   "pygments_lexer": "ipython3",
   "version": "3.7.12"
  }
 },
 "nbformat": 4,
 "nbformat_minor": 5
}
